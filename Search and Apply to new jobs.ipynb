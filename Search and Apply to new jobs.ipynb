{
 "cells": [
  {
   "cell_type": "markdown",
   "metadata": {
    "id": "779_dKTqn5a7"
   },
   "source": [
    "This notebook was created in google colab\n",
    "https://colab.research.google.com/\n",
    "\n"
   ]
  },
  {
   "cell_type": "code",
   "execution_count": null,
   "metadata": {
    "colab": {
     "base_uri": "https://localhost:8080/"
    },
    "executionInfo": {
     "elapsed": 34118,
     "status": "ok",
     "timestamp": 1740001342640,
     "user": {
      "displayName": "Abnel Lluberes M ([a52])",
      "userId": "15660653332427038406"
     },
     "user_tz": 300
    },
    "id": "HLPw45twnNoF",
    "outputId": "f3a120da-c0e9-4c7d-8666-748401c8a68a"
   },
   "outputs": [],
   "source": [
    "# Step 1: Setting Up Google Colab and Installing Dependencies\n",
    "!pip install langchain\n",
    "!pip install openai\n",
    "!pip install chromadb\n",
    "!pip install unstructured\n",
    "!pip install pdfplumber\n",
    "!pip install google-search-results\n",
    "!pip install langchain-community\n",
    "!pip install langchain-openai\n",
    "\n",
    "# Install python-docx (if not already installed):\n",
    "!pip install python-docx\n",
    "\n",
    "# Make sure SerpAPI is installed:\n",
    "!pip install google-search-results\n",
    "\n",
    "# Install Dependencies (if needed)\n",
    "!pip install reportlab"
   ]
  },
  {
   "cell_type": "markdown",
   "metadata": {
    "id": "8RED1ipzn_Tr"
   },
   "source": [
    "Set Up API Keys in Colab\n",
    "\n"
   ]
  },
  {
   "cell_type": "code",
   "execution_count": null,
   "metadata": {
    "executionInfo": {
     "elapsed": 8,
     "status": "ok",
     "timestamp": 1740001342649,
     "user": {
      "displayName": "Abnel Lluberes M ([a52])",
      "userId": "15660653332427038406"
     },
     "user_tz": 300
    },
    "id": "cN--vQyLn2RO"
   },
   "outputs": [],
   "source": [
    "import os\n",
    "\n",
    "# Set API keys securely\n",
    "os.environ[\"OPENAI_API_KEY\"] = \"\"\n",
    "os.environ[\"SERPAPI_API_KEY\"] = \"\""
   ]
  },
  {
   "cell_type": "markdown",
   "metadata": {
    "id": "VeUeB_RwpvO3"
   },
   "source": [
    "Upload the Resume File in Google Colab\n"
   ]
  },
  {
   "cell_type": "code",
   "execution_count": null,
   "metadata": {
    "colab": {
     "base_uri": "https://localhost:8080/",
     "height": 92
    },
    "executionInfo": {
     "elapsed": 10451,
     "status": "ok",
     "timestamp": 1740001353094,
     "user": {
      "displayName": "Abnel Lluberes M ([a52])",
      "userId": "15660653332427038406"
     },
     "user_tz": 300
    },
    "id": "R0cZ9V6epusb",
    "outputId": "c868abbf-7e79-409a-a439-34615799bf13"
   },
   "outputs": [],
   "source": [
    "from google.colab import files\n",
    "\n",
    "uploaded = files.upload()  # Uploads the file\n",
    "resume_path = list(uploaded.keys())[0]  # Gets the file name\n",
    "print(f\"Uploaded file: {resume_path}\")"
   ]
  },
  {
   "cell_type": "markdown",
   "metadata": {
    "id": "viwTS_xuqVq2"
   },
   "source": [
    "Extract Text from the Resume\n"
   ]
  },
  {
   "cell_type": "code",
   "execution_count": null,
   "metadata": {
    "colab": {
     "base_uri": "https://localhost:8080/"
    },
    "executionInfo": {
     "elapsed": 541,
     "status": "ok",
     "timestamp": 1740001353634,
     "user": {
      "displayName": "Abnel Lluberes M ([a52])",
      "userId": "15660653332427038406"
     },
     "user_tz": 300
    },
    "id": "BvGslMYZqhU1",
    "outputId": "54ec13dc-b879-4ccd-d7e0-9c3ca9a1eab4"
   },
   "outputs": [],
   "source": [
    "# Extract the text\n",
    "\n",
    "import pdfplumber\n",
    "import docx\n",
    "\n",
    "def extract_text_from_resume(file_path):\n",
    "    if file_path.lower().endswith(\".pdf\"):\n",
    "        with pdfplumber.open(file_path) as pdf:\n",
    "            text = \"\\n\".join(page.extract_text() for page in pdf.pages if page.extract_text())\n",
    "    elif file_path.lower().endswith(\".docx\"):\n",
    "        doc = docx.Document(file_path)\n",
    "        text = \"\\n\".join([para.text for para in doc.paragraphs])\n",
    "    else:\n",
    "        raise ValueError(\"Unsupported file format. Use PDF or DOCX.\")\n",
    "    return text\n",
    "\n",
    "resume_text = extract_text_from_resume(resume_path)\n",
    "print(\"Extracted Resume Text (First 500 chars):\\n\", resume_text[:500])  # Preview"
   ]
  },
  {
   "cell_type": "markdown",
   "metadata": {
    "id": "nNkOFgdWqpdL"
   },
   "source": [
    "Step 4: Analyze Skills and Competencies from the Resume"
   ]
  },
  {
   "cell_type": "code",
   "execution_count": 5,
   "metadata": {
    "colab": {
     "base_uri": "https://localhost:8080/"
    },
    "executionInfo": {
     "elapsed": 14889,
     "status": "ok",
     "timestamp": 1740001368521,
     "user": {
      "displayName": "Abnel Lluberes M ([a52])",
      "userId": "15660653332427038406"
     },
     "user_tz": 300
    },
    "id": "i3pQ4gcOqw8W",
    "outputId": "f39867f8-1371-41ad-a09d-2455164c9be3"
   },
   "outputs": [
    {
     "name": "stderr",
     "output_type": "stream",
     "text": [
      "<ipython-input-5-14ff8e5473d0>:31: LangChainDeprecationWarning: The class `LLMChain` was deprecated in LangChain 0.1.17 and will be removed in 1.0. Use :meth:`~RunnableSequence, e.g., `prompt | llm`` instead.\n",
      "  resume_analysis_chain = LLMChain(llm=llm, prompt=prompt_template)\n",
      "<ipython-input-5-14ff8e5473d0>:34: LangChainDeprecationWarning: The method `Chain.run` was deprecated in langchain 0.1.0 and will be removed in 1.0. Use :meth:`~invoke` instead.\n",
      "  analysis_result = resume_analysis_chain.run(resume_text)\n"
     ]
    },
    {
     "name": "stdout",
     "output_type": "stream",
     "text": [
      "Extracted Resume Details:\n",
      " - Key Skills:\n",
      "    - Technical: Project Management, Software Engineering, Digital Transformation, C# Programming, Azure resource administration, Agile Methodologies, Quality Management, Risk Management, Auditing\n",
      "    - Soft Skills: Cross-location collaboration\n",
      "\n",
      "- Work Experiences:\n",
      "    - Senior Product Manager at TripleCyber, from Jan 2022 to Jan 2025\n",
      "    - Project Manager at Agilisa Technologies, from Mar 2020 to Dec 2021\n",
      "    - Business Advisor at CMTD-ITLA, from Mar 2019 to Feb 2020\n",
      "    - Project Manager at SENASA, from May 2012 to Jul 2018\n",
      "\n",
      "- Education Details:\n",
      "    - Master in Business Administration from UASD, Dominican Republic in Nov 2019\n",
      "    - System Engineer from O&M University, Dominican Republic in Jan 2008\n",
      "    - PMP (2236059) from Project Management Institute in Jul 2018\n",
      "\n",
      "- Certifications:\n",
      "    - PMP (2236059) from Project Management Institute in Jul 2018\n",
      "\n",
      "- Summary of Expertise:\n",
      "    - Results-driven Project Manager with 20+ years of experience in the software development and information technology industry, leading innovative product strategies and complex, high-value projects. Demonstrated expertise in project management, software engineering, and digital transformation. Holds an MBA and PMP certified. Formation in risk management, quality management, and auditing, and a proven track record of driving business effectiveness.\n"
     ]
    }
   ],
   "source": [
    "#from langchain.chat_models import ChatOpenAI\n",
    "#from langchain.prompts import PromptTemplate\n",
    "#from langchain.chains import LLMChain\n",
    "\n",
    "from langchain_openai import ChatOpenAI\n",
    "from langchain.prompts import PromptTemplate\n",
    "from langchain.chains import LLMChain\n",
    "\n",
    "\n",
    "# Initialize OpenAI model\n",
    "llm = ChatOpenAI(model_name=\"gpt-4\", temperature=0)\n",
    "\n",
    "# Define the prompt template\n",
    "prompt_template = PromptTemplate(\n",
    "    input_variables=[\"resume_text\"],\n",
    "    template=\"\"\"Extract the following details from the given resume text:\n",
    "    - List of key skills (technical & soft skills)\n",
    "    - Work experiences (company, position, duration)\n",
    "    - Education details (degree, institution, year)\n",
    "    - Certifications (if any)\n",
    "    - Summary of expertise\n",
    "\n",
    "    Resume Text:\n",
    "    {resume_text}\n",
    "\n",
    "    Provide the extracted details in a structured format.\n",
    "    \"\"\"\n",
    ")\n",
    "\n",
    "# Create the chain\n",
    "resume_analysis_chain = LLMChain(llm=llm, prompt=prompt_template)\n",
    "\n",
    "# Run the chain on the extracted resume text\n",
    "analysis_result = resume_analysis_chain.run(resume_text)\n",
    "\n",
    "print(\"Extracted Resume Details:\\n\", analysis_result)"
   ]
  },
  {
   "cell_type": "markdown",
   "metadata": {
    "id": "0IEri2aKt4WP"
   },
   "source": [
    "Then, import the necessary libraries:"
   ]
  },
  {
   "cell_type": "code",
   "execution_count": 6,
   "metadata": {
    "executionInfo": {
     "elapsed": 44,
     "status": "ok",
     "timestamp": 1740001368565,
     "user": {
      "displayName": "Abnel Lluberes M ([a52])",
      "userId": "15660653332427038406"
     },
     "user_tz": 300
    },
    "id": "8xU4ooa3t1Pa"
   },
   "outputs": [],
   "source": [
    "from langchain.tools import Tool\n",
    "from langchain_community.utilities import SerpAPIWrapper\n",
    "\n",
    "# Initialize SerpAPI for job search\n",
    "search = SerpAPIWrapper()"
   ]
  },
  {
   "cell_type": "markdown",
   "metadata": {
    "id": "xzFRF5ituI6y"
   },
   "source": [
    "Create a Function to Search for Jobs\n"
   ]
  },
  {
   "cell_type": "code",
   "execution_count": null,
   "metadata": {
    "colab": {
     "base_uri": "https://localhost:8080/"
    },
    "executionInfo": {
     "elapsed": 2434,
     "status": "ok",
     "timestamp": 1740001371040,
     "user": {
      "displayName": "Abnel Lluberes M ([a52])",
      "userId": "15660653332427038406"
     },
     "user_tz": 300
    },
    "id": "EF17mE5luLRz",
    "outputId": "ddc5fad9-ff09-4f8f-dae6-be92c04b7b08"
   },
   "outputs": [],
   "source": [
    "def search_jobs(query, location=\"remote\", num_results=5):\n",
    "    search_query = f\"{query} jobs in {location}\"\n",
    "\n",
    "    # results = search.results(search_query, num_results)\n",
    "    results = search.results(query=search_query)\n",
    "\n",
    "    print(f\"Search results for '{search_query}':\")\n",
    "    print(results)\n",
    "\n",
    "    job_listings = []\n",
    "    for result in results[\"organic_results\"]:\n",
    "        job_listings.append({\n",
    "            \"title\": result[\"title\"],\n",
    "            \"company\": result[\"source\"],\n",
    "            \"link\": result[\"link\"],\n",
    "            \"description\": result[\"snippet\"]\n",
    "        })\n",
    "\n",
    "    return job_listings\n",
    "\n",
    "# Example: Search for jobs using extracted skills\n",
    "skills_query = analysis_result  # Using the extracted skills from the resume\n",
    "jobs = search_jobs(skills_query)\n",
    "\n",
    "# Display job results\n",
    "for idx, job in enumerate(jobs, start=1):\n",
    "    print(f\"{idx}. {job['title']} at {job['company']}\")\n",
    "    print(f\"Link: {job['link']}\\n\")"
   ]
  },
  {
   "cell_type": "markdown",
   "metadata": {
    "id": "PQrdGrWevTwj"
   },
   "source": [
    "Step 6: Customize the Resume for a Job Listing\n"
   ]
  },
  {
   "cell_type": "code",
   "execution_count": 8,
   "metadata": {
    "colab": {
     "base_uri": "https://localhost:8080/"
    },
    "executionInfo": {
     "elapsed": 2,
     "status": "ok",
     "timestamp": 1740001371043,
     "user": {
      "displayName": "Abnel Lluberes M ([a52])",
      "userId": "15660653332427038406"
     },
     "user_tz": 300
    },
    "id": "iDStvK3Wvi46",
    "outputId": "c82d68f1-4564-400d-965e-3fafe1a5720a"
   },
   "outputs": [
    {
     "name": "stdout",
     "output_type": "stream",
     "text": [
      "done\n"
     ]
    }
   ],
   "source": [
    "# 2. Generate a Tailored Resume\n",
    "def generate_tailored_resume(resume_text, job_title, company, job_description):\n",
    "\n",
    "\n",
    "    # Define a prompt template for resume optimization\n",
    "    resume_prompt = PromptTemplate(\n",
    "        input_variables=[\"resume_text\", \"job_title\", \"company\", \"job_description\"],\n",
    "        template=f\"\"\"Based on the given resume, tailor a new version that highlights\n",
    "        relevant skills and experience for the following job:\n",
    "\n",
    "        Job Title: {job_title}\n",
    "        Company: {company}\n",
    "        Job Description: {job_description}\n",
    "\n",
    "        Original Resume:\n",
    "        {resume_text}\n",
    "\n",
    "        Generate a new, optimized resume for submission.\n",
    "        \"\"\"\n",
    "    )\n",
    "\n",
    "    # Create a LangChain chain\n",
    "    resume_chain = LLMChain(llm=llm, prompt=resume_prompt)\n",
    "\n",
    "    # Simulated job description (if not available in search results)\n",
    "    job_description = \"We are looking for a skilled software developer with experience in c#, ci/cd, and cloud computing.\"\n",
    "\n",
    "    # Generate the tailored resume\n",
    "    tailored_resume = resume_chain.run({\n",
    "        \"resume_text\": resume_text,\n",
    "        \"job_title\": job_title,\n",
    "        \"company\": company,\n",
    "        \"job_description\": job_description\n",
    "    })\n",
    "\n",
    "    return tailored_resume\n",
    "\n",
    "print(\"done\")"
   ]
  },
  {
   "cell_type": "markdown",
   "metadata": {
    "id": "46Nv1PKTwtAM"
   },
   "source": [
    "Step 7: Save the Tailored Resume as a PDF or DOCX\n"
   ]
  },
  {
   "cell_type": "code",
   "execution_count": 10,
   "metadata": {
    "executionInfo": {
     "elapsed": 1,
     "status": "ok",
     "timestamp": 1740001401276,
     "user": {
      "displayName": "Abnel Lluberes M ([a52])",
      "userId": "15660653332427038406"
     },
     "user_tz": 300
    },
    "id": "HICVi31QxFL-"
   },
   "outputs": [],
   "source": [
    "from docx import Document\n",
    "\n",
    "def save_resume_as_docx(text, filename=\"tailored_resume.docx\"):\n",
    "    doc = Document()\n",
    "    doc.add_paragraph(text)\n",
    "    doc.save(filename)\n",
    "    print(f\"Resume saved as {filename}\")\n",
    "\n",
    "# Save the tailored resume as a Word document\n",
    "# save_resume_as_docx(tailored_resume)"
   ]
  },
  {
   "cell_type": "code",
   "execution_count": 11,
   "metadata": {
    "executionInfo": {
     "elapsed": 1,
     "status": "ok",
     "timestamp": 1740001401277,
     "user": {
      "displayName": "Abnel Lluberes M ([a52])",
      "userId": "15660653332427038406"
     },
     "user_tz": 300
    },
    "id": "dYpPgrrcxOSq"
   },
   "outputs": [],
   "source": [
    "from reportlab.lib.pagesizes import letter\n",
    "from reportlab.pdfgen import canvas\n",
    "\n",
    "def save_resume_as_pdf(text, filename=\"tailored_resume.pdf\"):\n",
    "    c = canvas.Canvas(filename, pagesize=letter)\n",
    "    width, height = letter\n",
    "\n",
    "    # Split text into lines and write to PDF\n",
    "    lines = text.split(\"\\n\")\n",
    "    y_position = height - 40  # Start position\n",
    "\n",
    "    for line in lines:\n",
    "        c.drawString(40, y_position, line)\n",
    "        y_position -= 15  # Move down for next line\n",
    "\n",
    "    c.save()\n",
    "    print(f\"Resume saved as {filename}\")\n",
    "\n",
    "# Save the tailored resume as a PDF\n",
    "# save_resume_as_pdf(tailored_resume)"
   ]
  },
  {
   "cell_type": "code",
   "execution_count": 12,
   "metadata": {
    "executionInfo": {
     "elapsed": 1,
     "status": "ok",
     "timestamp": 1740001401277,
     "user": {
      "displayName": "Abnel Lluberes M ([a52])",
      "userId": "15660653332427038406"
     },
     "user_tz": 300
    },
    "id": "pHExOsS8C6Ol"
   },
   "outputs": [],
   "source": [
    "import sys\n",
    "import datetime\n",
    "import re\n",
    "\n",
    "def generate_structured_filename(index, company_name):\n",
    "    \"\"\"\n",
    "    Generates a filename with the structure: {index} - {company name} - {YYYY_MM_DD_HH_MM}.pdf\n",
    "\n",
    "    Args:\n",
    "        index (str): The index number or identifier.\n",
    "        company_name (str): The name of the company.\n",
    "\n",
    "    Returns:\n",
    "        str: The generated filename string.\n",
    "    \"\"\"\n",
    "    # Get current date and time\n",
    "    now = datetime.datetime.now()\n",
    "    timestamp_str = now.strftime(\"%Y_%m_%d_%H_%M\")\n",
    "\n",
    "    # Clean company name for filename (replace spaces with underscores, remove special chars)\n",
    "    cleaned_company_name = re.sub(r'[^a-zA-Z0-9\\s]', '', company_name).strip().replace(' ', '_')\n",
    "\n",
    "    # Construct the filename\n",
    "    filename = f\"{index} - {cleaned_company_name} - {timestamp_str}.pdf\"\n",
    "    return filename"
   ]
  },
  {
   "cell_type": "code",
   "execution_count": 13,
   "metadata": {
    "colab": {
     "base_uri": "https://localhost:8080/"
    },
    "executionInfo": {
     "elapsed": 192819,
     "status": "ok",
     "timestamp": 1740001594096,
     "user": {
      "displayName": "Abnel Lluberes M ([a52])",
      "userId": "15660653332427038406"
     },
     "user_tz": 300
    },
    "id": "yzVMO88E6MGH",
    "outputId": "c15e4c9f-bbd9-4f69-88bb-eee0704442b7"
   },
   "outputs": [
    {
     "name": "stdout",
     "output_type": "stream",
     "text": [
      "1. Software/IT Project Managers - key skills required? at Reddit · r/projectmanagement\n",
      "Link: https://www.reddit.com/r/projectmanagement/comments/jkauab/softwareit_project_managers_key_skills_required/\n",
      "\n",
      "Description: Software/IT Project Managers - key skills required? · PM software: Microsoft Project, Smartsheet, Jira · Languages/tools: SQL, Python, GitHub.\n",
      "\n",
      "Generated filename: 1 - Reddit__rprojectmanagement - 2025_02_19_21_43.pdf\n",
      "Resume saved as 1 - Reddit__rprojectmanagement - 2025_02_19_21_43.pdf.pdf\n",
      "==================================================\n",
      "2. What are the top skills for an agile software team leader? at LinkedIn\n",
      "Link: https://www.linkedin.com/advice/1/what-top-skills-agile-software-team-ntllc\n",
      "\n",
      "Description: Learn how to communicate, coach, facilitate, lead, adapt, and contribute as an agile software team leader and deliver successful software ...\n",
      "\n",
      "Generated filename: 2 - LinkedIn - 2025_02_19_21_43.pdf\n",
      "Resume saved as 2 - LinkedIn - 2025_02_19_21_43.pdf.pdf\n",
      "==================================================\n",
      "3. Vishal M. - Sr Technical Recruiter - Pyramid Consulting, Inc at LinkedIn · Vishal M.\n",
      "Link: https://www.linkedin.com/in/vishal-m-918b3117b?trk=public_profile_browsemap_profile-result-card_result-card_full-click\n",
      "\n",
      "Description: I provide technical and staffing services to companies in the US. We help businesses to grow by filling their key position and fill them with skilled ...\n",
      "\n",
      "Generated filename: 3 - LinkedIn__Vishal_M - 2025_02_19_21_44.pdf\n",
      "Resume saved as 3 - LinkedIn__Vishal_M - 2025_02_19_21_44.pdf.pdf\n",
      "==================================================\n",
      "4. Best practices for Agile project management - Azure Boards at Microsoft Learn\n",
      "Link: https://learn.microsoft.com/en-us/azure/devops/boards/best-practices-agile-project-management?view=azure-devops\n",
      "\n",
      "Description: This article provides a get-started guide for project managers new to Azure Boards. If you and your teams want to take a minimal tracking approach to plan and ...\n",
      "\n",
      "Generated filename: 4 - Microsoft_Learn - 2025_02_19_21_44.pdf\n",
      "Resume saved as 4 - Microsoft_Learn - 2025_02_19_21_44.pdf.pdf\n",
      "==================================================\n",
      "5. Agile Project Management Techniques - Agile Software ... at Skillsoft\n",
      "Link: https://www.skillsoft.com/course/agile-software-development-agile-project-management-techniques-d6706486-42eb-4a6f-b092-f56a02a8692a\n",
      "\n",
      "Description: In this 14-video course, explore Agile project management techniques, feature-driven development, and Agile modeling. Examine self-organizing teams and…\n",
      "\n",
      "Generated filename: 5 - Skillsoft - 2025_02_19_21_44.pdf\n",
      "Resume saved as 5 - Skillsoft - 2025_02_19_21_44.pdf.pdf\n",
      "==================================================\n",
      "6. USACE Database at U.S. Army Corps of Engineers (.mil)\n",
      "Link: https://www.usace.army.mil/Portals/2/docs/Small%20Business/Database/USACE%20Contractor%20Database%20as%20of%2028%20FEB%202024%20Public.xls?ver=UpxB69x8XCzCvNo7C151UQ%3D%3D\n",
      "\n",
      "Description: Digital Transformation, CIO Support, Health IT Services, Program and Project Management, Cloud Modernization, Software Engineering Life Cyle, Application ...\n",
      "\n",
      "Generated filename: 6 - US_Army_Corps_of_Engineers_mil - 2025_02_19_21_44.pdf\n",
      "Resume saved as 6 - US_Army_Corps_of_Engineers_mil - 2025_02_19_21_44.pdf.pdf\n",
      "==================================================\n",
      "7. Azure DevOps Tutorial: Agile Project Management at CPrime\n",
      "Link: https://www.cprime.com/resources/blog/azure-devops-tutorial-agile-project-management/\n",
      "\n",
      "Description: Azure DevOps is a suite of related tools that allows software teams to track work, manage code, run builds, deploy applications, and manage tests.\n",
      "\n",
      "Generated filename: 7 - CPrime - 2025_02_19_21_45.pdf\n",
      "Resume saved as 7 - CPrime - 2025_02_19_21_45.pdf.pdf\n",
      "==================================================\n",
      "8. Azure DevOps: Project Management Made Easy for Agile Teams at unito.io\n",
      "Link: https://unito.io/blog/azure-devops-project-management/\n",
      "\n",
      "Description: What is DevOps? For the uninitiated, DevOps is a practice that connects development and operations teams to help them collaborate effectively ...\n",
      "\n",
      "Generated filename: 8 - unitoio - 2025_02_19_21_45.pdf\n",
      "Resume saved as 8 - unitoio - 2025_02_19_21_45.pdf.pdf\n",
      "==================================================\n",
      "9. Information Technology Project Management, Revised ... at Amazon.com\n",
      "Link: https://www.amazon.com/Information-Technology-Project-Management-Revised/dp/1285847091\n",
      "\n",
      "Description: This one-of-a-kind book demonstrates the principles distinctive to managing information technology (IT) projects that extend well beyond standard project ...\n",
      "\n",
      "Generated filename: 9 - Amazoncom - 2025_02_19_21_45.pdf\n",
      "Resume saved as 9 - Amazoncom - 2025_02_19_21_45.pdf.pdf\n",
      "==================================================\n",
      "10. Day-2/16 Agile Project Management Using Azure DevOps ... at YouTube · Tech Tutorials with Piyush\n",
      "Link: https://www.youtube.com/watch?v=vjqhGJMFhFI\n",
      "\n",
      "Description: This video is all about agile project management using Azure boards.\n",
      "\n",
      "Generated filename: 10 - YouTube__Tech_Tutorials_with_Piyush - 2025_02_19_21_46.pdf\n",
      "Resume saved as 10 - YouTube__Tech_Tutorials_with_Piyush - 2025_02_19_21_46.pdf.pdf\n",
      "==================================================\n"
     ]
    }
   ],
   "source": [
    "# iterar the result\n",
    "for idx, job in enumerate(jobs, start=1):\n",
    "    print(f\"{idx}. {job['title']} at {job['company']}\")\n",
    "    print(f\"Link: {job['link']}\\n\")\n",
    "    print(f\"Description: {job['description']}\\n\")\n",
    "\n",
    "    index = idx\n",
    "    company_name = job['company']\n",
    "    job_title = job['title']\n",
    "    job_description = job['description']\n",
    "\n",
    "    filename = generate_structured_filename(index, company_name)\n",
    "    print(f\"Generated filename: {filename}\")\n",
    "\n",
    "    #filename = generate_structured_filename(idx, job['company'])\n",
    "    #save_resume_as_pdf(tailored_resume, filename)\n",
    "    #print(f\"Resume saved as {filename}\")\n",
    "\n",
    "    tailored_resume = generate_tailored_resume(resume_text, job_title, company_name, job_description)\n",
    "    save_resume_as_pdf(tailored_resume, f\"{filename}.pdf\")\n",
    "\n",
    "\n",
    "    print(\"=\" * 50)\n",
    "\n",
    "\n"
   ]
  }
 ],
 "metadata": {
  "colab": {
   "authorship_tag": "ABX9TyMzSyWYOD21EQ7HJR2d64Zp",
   "mount_file_id": "1NJZhiixw94Q-bFlsbG9eSiCq2PwBHM4p",
   "provenance": []
  },
  "kernelspec": {
   "display_name": "Python 3",
   "name": "python3"
  },
  "language_info": {
   "name": "python"
  }
 },
 "nbformat": 4,
 "nbformat_minor": 0
}
